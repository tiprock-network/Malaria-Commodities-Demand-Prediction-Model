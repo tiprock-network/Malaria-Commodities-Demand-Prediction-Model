{
 "cells": [
  {
   "attachments": {},
   "cell_type": "markdown",
   "metadata": {},
   "source": [
    "# Malaria Commodity Prediction\n",
    "County predictions for malaria commodities.\n",
    "Note this is not the official model book. This is a test lab used for modelling solutions using sklearn. Kindly review Model Lab.ipynb for the official model."
   ]
  },
  {
   "cell_type": "code",
   "execution_count": 1,
   "metadata": {},
   "outputs": [],
   "source": [
    "import pandas as pd\n",
    "import numpy as np\n",
    "import tensorflow as tf\n",
    "import matplotlib.pyplot as plt\n",
    "from keras import Sequential\n",
    "from keras.layers import Dense\n"
   ]
  },
  {
   "cell_type": "code",
   "execution_count": 124,
   "metadata": {},
   "outputs": [
    {
     "data": {
      "text/html": [
       "<div>\n",
       "<style scoped>\n",
       "    .dataframe tbody tr th:only-of-type {\n",
       "        vertical-align: middle;\n",
       "    }\n",
       "\n",
       "    .dataframe tbody tr th {\n",
       "        vertical-align: top;\n",
       "    }\n",
       "\n",
       "    .dataframe thead th {\n",
       "        text-align: right;\n",
       "    }\n",
       "</style>\n",
       "<table border=\"1\" class=\"dataframe\">\n",
       "  <thead>\n",
       "    <tr style=\"text-align: right;\">\n",
       "      <th></th>\n",
       "      <th>periodid</th>\n",
       "      <th>periodname</th>\n",
       "      <th>periodcode</th>\n",
       "      <th>perioddescription</th>\n",
       "      <th>dataid</th>\n",
       "      <th>dataname</th>\n",
       "      <th>datacode</th>\n",
       "      <th>datadescription</th>\n",
       "      <th>Baringo County</th>\n",
       "      <th>Bomet County</th>\n",
       "      <th>...</th>\n",
       "      <th>Siaya County</th>\n",
       "      <th>Taita Taveta County</th>\n",
       "      <th>Tana River County</th>\n",
       "      <th>Tharaka Nithi County</th>\n",
       "      <th>Trans Nzoia County</th>\n",
       "      <th>Turkana County</th>\n",
       "      <th>Uasin Gishu County</th>\n",
       "      <th>Vihiga County</th>\n",
       "      <th>Wajir County</th>\n",
       "      <th>West Pokot County</th>\n",
       "    </tr>\n",
       "  </thead>\n",
       "  <tbody>\n",
       "    <tr>\n",
       "      <th>0</th>\n",
       "      <td>202201</td>\n",
       "      <td>Jan-22</td>\n",
       "      <td>202201</td>\n",
       "      <td>Hot</td>\n",
       "      <td>cPlWFYbBacW.w77uMi1KzOH</td>\n",
       "      <td>MOH 743 Rev2020_Rapid Diagnostic Tests Total Q...</td>\n",
       "      <td>NaN</td>\n",
       "      <td>NaN</td>\n",
       "      <td>2644</td>\n",
       "      <td>626</td>\n",
       "      <td>...</td>\n",
       "      <td>67556</td>\n",
       "      <td>496</td>\n",
       "      <td>4000.0</td>\n",
       "      <td>1148</td>\n",
       "      <td>4598</td>\n",
       "      <td>31277</td>\n",
       "      <td>3127</td>\n",
       "      <td>29950</td>\n",
       "      <td>1146</td>\n",
       "      <td>8189</td>\n",
       "    </tr>\n",
       "    <tr>\n",
       "      <th>1</th>\n",
       "      <td>202202</td>\n",
       "      <td>Feb-22</td>\n",
       "      <td>202202</td>\n",
       "      <td>Hot</td>\n",
       "      <td>cPlWFYbBacW.w77uMi1KzOH</td>\n",
       "      <td>MOH 743 Rev2020_Rapid Diagnostic Tests Total Q...</td>\n",
       "      <td>NaN</td>\n",
       "      <td>NaN</td>\n",
       "      <td>3529</td>\n",
       "      <td>444</td>\n",
       "      <td>...</td>\n",
       "      <td>52890</td>\n",
       "      <td>983</td>\n",
       "      <td>2889.0</td>\n",
       "      <td>1398</td>\n",
       "      <td>5390</td>\n",
       "      <td>23382</td>\n",
       "      <td>2006</td>\n",
       "      <td>20458</td>\n",
       "      <td>1197</td>\n",
       "      <td>6908</td>\n",
       "    </tr>\n",
       "    <tr>\n",
       "      <th>2</th>\n",
       "      <td>202203</td>\n",
       "      <td>Mar-22</td>\n",
       "      <td>202203</td>\n",
       "      <td>Wet</td>\n",
       "      <td>cPlWFYbBacW.w77uMi1KzOH</td>\n",
       "      <td>MOH 743 Rev2020_Rapid Diagnostic Tests Total Q...</td>\n",
       "      <td>NaN</td>\n",
       "      <td>NaN</td>\n",
       "      <td>2998</td>\n",
       "      <td>460</td>\n",
       "      <td>...</td>\n",
       "      <td>50940</td>\n",
       "      <td>1015</td>\n",
       "      <td>2392.0</td>\n",
       "      <td>671</td>\n",
       "      <td>6367</td>\n",
       "      <td>19729</td>\n",
       "      <td>2093</td>\n",
       "      <td>19161</td>\n",
       "      <td>885</td>\n",
       "      <td>6343</td>\n",
       "    </tr>\n",
       "    <tr>\n",
       "      <th>3</th>\n",
       "      <td>202204</td>\n",
       "      <td>Apr-22</td>\n",
       "      <td>202204</td>\n",
       "      <td>Wet</td>\n",
       "      <td>cPlWFYbBacW.w77uMi1KzOH</td>\n",
       "      <td>MOH 743 Rev2020_Rapid Diagnostic Tests Total Q...</td>\n",
       "      <td>NaN</td>\n",
       "      <td>NaN</td>\n",
       "      <td>2755</td>\n",
       "      <td>508</td>\n",
       "      <td>...</td>\n",
       "      <td>41512</td>\n",
       "      <td>698</td>\n",
       "      <td>1567.0</td>\n",
       "      <td>509</td>\n",
       "      <td>5187</td>\n",
       "      <td>22980</td>\n",
       "      <td>1221</td>\n",
       "      <td>18753</td>\n",
       "      <td>936</td>\n",
       "      <td>9657</td>\n",
       "    </tr>\n",
       "  </tbody>\n",
       "</table>\n",
       "<p>4 rows × 55 columns</p>\n",
       "</div>"
      ],
      "text/plain": [
       "   periodid periodname  periodcode perioddescription                   dataid  \\\n",
       "0    202201     Jan-22      202201               Hot  cPlWFYbBacW.w77uMi1KzOH   \n",
       "1    202202     Feb-22      202202               Hot  cPlWFYbBacW.w77uMi1KzOH   \n",
       "2    202203     Mar-22      202203               Wet  cPlWFYbBacW.w77uMi1KzOH   \n",
       "3    202204     Apr-22      202204               Wet  cPlWFYbBacW.w77uMi1KzOH   \n",
       "\n",
       "                                            dataname  datacode  \\\n",
       "0  MOH 743 Rev2020_Rapid Diagnostic Tests Total Q...       NaN   \n",
       "1  MOH 743 Rev2020_Rapid Diagnostic Tests Total Q...       NaN   \n",
       "2  MOH 743 Rev2020_Rapid Diagnostic Tests Total Q...       NaN   \n",
       "3  MOH 743 Rev2020_Rapid Diagnostic Tests Total Q...       NaN   \n",
       "\n",
       "   datadescription  Baringo County  Bomet County  ...  Siaya County  \\\n",
       "0              NaN            2644           626  ...         67556   \n",
       "1              NaN            3529           444  ...         52890   \n",
       "2              NaN            2998           460  ...         50940   \n",
       "3              NaN            2755           508  ...         41512   \n",
       "\n",
       "   Taita Taveta County  Tana River County  Tharaka Nithi County  \\\n",
       "0                  496             4000.0                  1148   \n",
       "1                  983             2889.0                  1398   \n",
       "2                 1015             2392.0                   671   \n",
       "3                  698             1567.0                   509   \n",
       "\n",
       "   Trans Nzoia County  Turkana County  Uasin Gishu County  Vihiga County  \\\n",
       "0                4598           31277                3127          29950   \n",
       "1                5390           23382                2006          20458   \n",
       "2                6367           19729                2093          19161   \n",
       "3                5187           22980                1221          18753   \n",
       "\n",
       "   Wajir County  West Pokot County  \n",
       "0          1146               8189  \n",
       "1          1197               6908  \n",
       "2           885               6343  \n",
       "3           936               9657  \n",
       "\n",
       "[4 rows x 55 columns]"
      ]
     },
     "execution_count": 124,
     "metadata": {},
     "output_type": "execute_result"
    }
   ],
   "source": [
    "dataframe=pd.read_csv('data.csv')\n",
    "#retieve 4 rows\n",
    "dataframe.head(4)"
   ]
  },
  {
   "attachments": {},
   "cell_type": "markdown",
   "metadata": {},
   "source": [
    "# Model Development"
   ]
  },
  {
   "cell_type": "code",
   "execution_count": 89,
   "metadata": {},
   "outputs": [
    {
     "name": "stdout",
     "output_type": "stream",
     "text": [
      "[2022.01 2022.02 2022.03 2022.04 2022.05 2022.06 2022.07 2022.08 2022.09\n",
      " 2022.1  2022.11 2022.12 2021.01 2021.02 2021.03 2021.04 2021.05 2021.06\n",
      " 2021.07 2021.08 2021.09 2021.1  2021.11 2021.12 2020.01 2020.02 2020.03\n",
      " 2020.04 2020.05 2020.06 2020.07 2020.08 2020.09 2020.1  2020.11 2020.12\n",
      " 2019.01 2019.02 2019.03 2019.04 2019.05 2019.06 2019.07 2019.08 2019.09\n",
      " 2019.1  2019.11 2019.12 2018.01 2018.02 2018.03 2018.04 2018.05 2018.06\n",
      " 2018.07 2018.08 2018.09 2018.1  2018.11 2018.12]\n"
     ]
    }
   ],
   "source": [
    "#using the dates as the main predictors\n",
    "X=np.array(dataframe['periodid'],dtype='float32')\n",
    "\n",
    "#scaling our data for consistencey\n",
    "X=X/(100*np.ones(len(X)))\n",
    "print(X)"
   ]
  },
  {
   "attachments": {},
   "cell_type": "markdown",
   "metadata": {},
   "source": [
    "# Baringo County Model"
   ]
  },
  {
   "cell_type": "code",
   "execution_count": 90,
   "metadata": {},
   "outputs": [
    {
     "name": "stdout",
     "output_type": "stream",
     "text": [
      "[ 2644.  3529.  2998.  2755.  2878.  3433.  2286.  2908.  5001.  3934.\n",
      "  2774.  3300.  3176. 10559.  4618.  3911.  3923.  3858.  3722.  4933.\n",
      "  4806.  3054.  2725.  3080.  4521.  8826.  8935.  4403.  2354.  2792.\n",
      "  2347.  2544.  4593.  1826.  2128.  3040.  1670.   955.  2187.  2038.\n",
      "  2406.  1922.  2315.  1687.  2866.  1581.  2403.  2398.  1711.  2617.\n",
      "  2101.  1269.  2955.  4017.  4122.  2226.  1007.  1155.   793.  1113.]\n"
     ]
    }
   ],
   "source": [
    "#baringo county\n",
    "y_baringo=np.array(dataframe['Baringo County'],dtype='float32')\n",
    "print(y_baringo)\n",
    "#histogram"
   ]
  },
  {
   "cell_type": "code",
   "execution_count": 56,
   "metadata": {},
   "outputs": [],
   "source": [
    "from sklearn.model_selection import train_test_split\n",
    "from sklearn.linear_model import LinearRegression as LRG\n",
    "X_train,X_test,y_train,y_test=train_test_split(X,y_baringo,test_size=0.3,random_state=None)\n"
   ]
  },
  {
   "cell_type": "code",
   "execution_count": 209,
   "metadata": {},
   "outputs": [
    {
     "data": {
      "text/plain": [
       "array([[0.729927  ],\n",
       "       [0.7347932 ],\n",
       "       [0.25547445],\n",
       "       [0.513382  ],\n",
       "       [0.2676399 ],\n",
       "       [0.25304136],\n",
       "       [0.7469586 ],\n",
       "       [0.9781022 ],\n",
       "       [0.74452555],\n",
       "       [0.99756694],\n",
       "       [0.49635038],\n",
       "       [0.9829684 ],\n",
       "       [0.98540145],\n",
       "       [0.02189781],\n",
       "       [0.00486618],\n",
       "       [0.73722625],\n",
       "       [0.5109489 ],\n",
       "       [0.74939173]], dtype=float32)"
      ]
     },
     "execution_count": 209,
     "metadata": {},
     "output_type": "execute_result"
    }
   ],
   "source": [
    "X_test"
   ]
  },
  {
   "cell_type": "code",
   "execution_count": 57,
   "metadata": {},
   "outputs": [
    {
     "name": "stdout",
     "output_type": "stream",
     "text": [
      "X_train shape: 42\n",
      "X_test shape: 18\n",
      "y_train shape: 42 and data type: float32\n",
      "y_test shape: 18\n"
     ]
    }
   ],
   "source": [
    "print(f\"X_train shape: {X_train.shape[0]}\")\n",
    "print(f\"X_test shape: {X_test.shape[0]}\")\n",
    "print(f\"y_train shape: {y_train.shape[0]} and data type: {y_train.dtype}\")\n",
    "print(f\"y_test shape: {y_test.shape[0]}\")"
   ]
  },
  {
   "cell_type": "code",
   "execution_count": 208,
   "metadata": {},
   "outputs": [
    {
     "name": "stdout",
     "output_type": "stream",
     "text": [
      "Using model: LinearRegression()\n",
      "Score: 10.70 %\n"
     ]
    }
   ],
   "source": [
    "#create model function to avoid repetitive task\n",
    "\n",
    "def commodity_predictor(X,y):\n",
    "    model=LRG().fit(X,y)\n",
    "    \n",
    "    return model\n",
    "\n",
    "baringo_model=commodity_predictor(X_train,y_train)\n",
    "print(f\"Using model: {baringo_model}\")\n",
    "print(f\"Score: {baringo_model.score(X_train,y_train)*100:.2f} %\")\n"
   ]
  },
  {
   "cell_type": "code",
   "execution_count": 74,
   "metadata": {},
   "outputs": [
    {
     "name": "stdout",
     "output_type": "stream",
     "text": [
      "Year 2022, Month 01 - Demand: 3704\n",
      "Year 2022, Month 02 - Demand: 3713\n",
      "Year 2022, Month 03 - Demand: 2798\n",
      "Year 2022, Month 04 - Demand: 3291\n",
      "Year 2022, Month 05 - Demand: 2822\n",
      "Year 2022, Month 06 - Demand: 2794\n",
      "Year 2022, Month 07 - Demand: 3736\n",
      "Year 2022, Month 08 - Demand: 4178\n",
      "Year 2022, Month 09 - Demand: 3732\n",
      "Year 2022, Month 10 - Demand: 4215\n",
      "Year 2022, Month 11 - Demand: 3258\n",
      "Year 2022, Month 12 - Demand: 4187\n",
      "Year 2021, Month 01 - Demand: 4191\n",
      "Year 2021, Month 02 - Demand: 2353\n",
      "Year 2021, Month 03 - Demand: 2320\n",
      "Year 2021, Month 04 - Demand: 3718\n",
      "Year 2021, Month 05 - Demand: 3286\n",
      "Year 2021, Month 06 - Demand: 3741\n"
     ]
    }
   ],
   "source": [
    "#prediction from the test data\n",
    "X=np.array(dataframe['periodid'],dtype='float32')\n",
    "def projection_test(X_samples):\n",
    " baringo_projection=baringo_model.predict(X_samples)\n",
    "\n",
    " for i in range(len(baringo_projection)):\n",
    "    print(f\"Year {str(int(X[i]))[:4]}, Month {str(int(X[i]))[4:]} - Demand: {baringo_projection[i]:.0f}\")\n",
    "    \n",
    "projection_test(X_test)"
   ]
  },
  {
   "attachments": {},
   "cell_type": "markdown",
   "metadata": {},
   "source": [
    "# Looking at Time Series"
   ]
  },
  {
   "cell_type": "code",
   "execution_count": 76,
   "metadata": {},
   "outputs": [
    {
     "name": "stdout",
     "output_type": "stream",
     "text": [
      "TimeSeriesSplit(gap=0, max_train_size=None, n_splits=5, test_size=None)\n",
      "Fold 0:\n",
      "  Train: index=[0 1 2 3 4 5 6 7 8 9]\n",
      "  Test:  index=[10 11 12 13 14 15 16 17 18 19]\n",
      "Fold 1:\n",
      "  Train: index=[ 0  1  2  3  4  5  6  7  8  9 10 11 12 13 14 15 16 17 18 19]\n",
      "  Test:  index=[20 21 22 23 24 25 26 27 28 29]\n",
      "Fold 2:\n",
      "  Train: index=[ 0  1  2  3  4  5  6  7  8  9 10 11 12 13 14 15 16 17 18 19 20 21 22 23\n",
      " 24 25 26 27 28 29]\n",
      "  Test:  index=[30 31 32 33 34 35 36 37 38 39]\n",
      "Fold 3:\n",
      "  Train: index=[ 0  1  2  3  4  5  6  7  8  9 10 11 12 13 14 15 16 17 18 19 20 21 22 23\n",
      " 24 25 26 27 28 29 30 31 32 33 34 35 36 37 38 39]\n",
      "  Test:  index=[40 41 42 43 44 45 46 47 48 49]\n",
      "Fold 4:\n",
      "  Train: index=[ 0  1  2  3  4  5  6  7  8  9 10 11 12 13 14 15 16 17 18 19 20 21 22 23\n",
      " 24 25 26 27 28 29 30 31 32 33 34 35 36 37 38 39 40 41 42 43 44 45 46 47\n",
      " 48 49]\n",
      "  Test:  index=[50 51 52 53 54 55 56 57 58 59]\n"
     ]
    }
   ],
   "source": [
    "from sklearn.model_selection import TimeSeriesSplit\n",
    "\n",
    "t_series=TimeSeriesSplit()\n",
    "print(t_series)\n",
    "\n",
    "for i,(train_index,test_index) in enumerate(t_series.split(X)):\n",
    "    print(f\"Fold {i}:\")\n",
    "    print(f\"  Train: index={train_index}\")\n",
    "    print(f\"  Test:  index={test_index}\")\n"
   ]
  },
  {
   "cell_type": "code",
   "execution_count": 119,
   "metadata": {},
   "outputs": [
    {
     "data": {
      "image/png": "[encoded data removed]",
      "text/plain": [
       "<Figure size 864x288 with 1 Axes>"
      ]
     },
     "metadata": {
      "needs_background": "light"
     },
     "output_type": "display_data"
    }
   ],
   "source": [
    "fig, ax = plt.subplots(figsize=(12, 4))\n",
    "commodity_demand = dataframe.groupby([\"periodname\"])[\"Baringo County\"].mean()\n",
    "commodity_demand.plot(ax=ax)\n",
    "_ = ax.set(\n",
    "    title=\"\",\n",
    "    xticks=[i*5for i in range(12)],\n",
    "    xticklabels=[\"Jan\", \"Feb\", \"March\", \"April\", \"May\", \"June\", \"Jul\", \"Aug\", \"Sept\", \"Oct\", \"Nov\", \"Dec\"],\n",
    "    xlabel=\"Season\",\n",
    "    ylabel=\"Malarial Drug Demand\",\n",
    ")"
   ]
  },
  {
   "cell_type": "code",
   "execution_count": 125,
   "metadata": {},
   "outputs": [
    {
     "data": {
      "text/plain": [
       "Hot    30\n",
       "Wet    30\n",
       "Name: perioddescription, dtype: int64"
      ]
     },
     "execution_count": 125,
     "metadata": {},
     "output_type": "execute_result"
    }
   ],
   "source": [
    "X = dataframe['perioddescription'].value_counts()\n",
    "X"
   ]
  },
  {
   "cell_type": "code",
   "execution_count": 219,
   "metadata": {},
   "outputs": [],
   "source": [
    "from sklearn.model_selection import TimeSeriesSplit\n",
    "ts_crossval = TimeSeriesSplit(\n",
    "    n_splits=4,\n",
    "    gap=4,\n",
    "    max_train_size=48,\n",
    "    test_size=12,\n",
    ")"
   ]
  },
  {
   "cell_type": "code",
   "execution_count": 223,
   "metadata": {},
   "outputs": [],
   "source": [
    "all_splits = list(ts_crossval.split(dataframe['periodid'], dataframe['Baringo County']))\n",
    "train_0, test_0 = all_splits[0]\n",
    "train_1, test_1 = all_splits[1]\n",
    "train_2, test_2 = all_splits[2]\n",
    "train_3, test_3 = all_splits[3]"
   ]
  },
  {
   "cell_type": "code",
   "execution_count": 170,
   "metadata": {},
   "outputs": [
    {
     "data": {
      "text/plain": [
       "36    201901\n",
       "37    201902\n",
       "38    201903\n",
       "39    201904\n",
       "40    201905\n",
       "41    201906\n",
       "42    201907\n",
       "43    201908\n",
       "44    201909\n",
       "45    201910\n",
       "46    201911\n",
       "47    201912\n",
       "Name: periodid, dtype: int64"
      ]
     },
     "execution_count": 170,
     "metadata": {},
     "output_type": "execute_result"
    }
   ],
   "source": [
    "dataframe['periodid'].iloc[test_0]"
   ]
  },
  {
   "cell_type": "code",
   "execution_count": 185,
   "metadata": {},
   "outputs": [],
   "source": [
    "from sklearn.pipeline import make_pipeline\n",
    "from sklearn.ensemble import GradientBoostingRegressor\n",
    "from sklearn.model_selection import cross_validate\n",
    "from sklearn import preprocessing\n",
    "\n",
    "label_encoder=preprocessing.LabelEncoder()\n"
   ]
  },
  {
   "cell_type": "code",
   "execution_count": 186,
   "metadata": {},
   "outputs": [
    {
     "data": {
      "text/plain": [
       "<bound method Series.unique of 0     0\n",
       "1     0\n",
       "2     1\n",
       "3     1\n",
       "4     1\n",
       "5     1\n",
       "6     1\n",
       "7     1\n",
       "8     0\n",
       "9     0\n",
       "10    0\n",
       "11    0\n",
       "12    0\n",
       "13    0\n",
       "14    1\n",
       "15    1\n",
       "16    1\n",
       "17    1\n",
       "18    1\n",
       "19    1\n",
       "20    0\n",
       "21    0\n",
       "22    0\n",
       "23    0\n",
       "24    0\n",
       "25    0\n",
       "26    1\n",
       "27    1\n",
       "28    1\n",
       "29    1\n",
       "30    1\n",
       "31    1\n",
       "32    0\n",
       "33    0\n",
       "34    0\n",
       "35    0\n",
       "36    0\n",
       "37    0\n",
       "38    1\n",
       "39    1\n",
       "40    1\n",
       "41    1\n",
       "42    1\n",
       "43    1\n",
       "44    0\n",
       "45    0\n",
       "46    0\n",
       "47    0\n",
       "48    0\n",
       "49    0\n",
       "50    1\n",
       "51    1\n",
       "52    1\n",
       "53    1\n",
       "54    1\n",
       "55    1\n",
       "56    0\n",
       "57    0\n",
       "58    0\n",
       "59    0\n",
       "Name: perioddescription, dtype: int64>"
      ]
     },
     "execution_count": 186,
     "metadata": {},
     "output_type": "execute_result"
    }
   ],
   "source": [
    "dataframe['perioddescription']=label_encoder.fit_transform(dataframe['perioddescription'])\n",
    "dataframe['perioddescription'].unique"
   ]
  },
  {
   "cell_type": "code",
   "execution_count": 217,
   "metadata": {},
   "outputs": [
    {
     "data": {
      "text/html": [
       "<style>#sk-container-id-9 {color: black;background-color: white;}#sk-container-id-9 pre{padding: 0;}#sk-container-id-9 div.sk-toggleable {background-color: white;}#sk-container-id-9 label.sk-toggleable__label {cursor: pointer;display: block;width: 100%;margin-bottom: 0;padding: 0.3em;box-sizing: border-box;text-align: center;}#sk-container-id-9 label.sk-toggleable__label-arrow:before {content: \"▸\";float: left;margin-right: 0.25em;color: #696969;}#sk-container-id-9 label.sk-toggleable__label-arrow:hover:before {color: black;}#sk-container-id-9 div.sk-estimator:hover label.sk-toggleable__label-arrow:before {color: black;}#sk-container-id-9 div.sk-toggleable__content {max-height: 0;max-width: 0;overflow: hidden;text-align: left;background-color: #f0f8ff;}#sk-container-id-9 div.sk-toggleable__content pre {margin: 0.2em;color: black;border-radius: 0.25em;background-color: #f0f8ff;}#sk-container-id-9 input.sk-toggleable__control:checked~div.sk-toggleable__content {max-height: 200px;max-width: 100%;overflow: auto;}#sk-container-id-9 input.sk-toggleable__control:checked~label.sk-toggleable__label-arrow:before {content: \"▾\";}#sk-container-id-9 div.sk-estimator input.sk-toggleable__control:checked~label.sk-toggleable__label {background-color: #d4ebff;}#sk-container-id-9 div.sk-label input.sk-toggleable__control:checked~label.sk-toggleable__label {background-color: #d4ebff;}#sk-container-id-9 input.sk-hidden--visually {border: 0;clip: rect(1px 1px 1px 1px);clip: rect(1px, 1px, 1px, 1px);height: 1px;margin: -1px;overflow: hidden;padding: 0;position: absolute;width: 1px;}#sk-container-id-9 div.sk-estimator {font-family: monospace;background-color: #f0f8ff;border: 1px dotted black;border-radius: 0.25em;box-sizing: border-box;margin-bottom: 0.5em;}#sk-container-id-9 div.sk-estimator:hover {background-color: #d4ebff;}#sk-container-id-9 div.sk-parallel-item::after {content: \"\";width: 100%;border-bottom: 1px solid gray;flex-grow: 1;}#sk-container-id-9 div.sk-label:hover label.sk-toggleable__label {background-color: #d4ebff;}#sk-container-id-9 div.sk-serial::before {content: \"\";position: absolute;border-left: 1px solid gray;box-sizing: border-box;top: 0;bottom: 0;left: 50%;z-index: 0;}#sk-container-id-9 div.sk-serial {display: flex;flex-direction: column;align-items: center;background-color: white;padding-right: 0.2em;padding-left: 0.2em;position: relative;}#sk-container-id-9 div.sk-item {position: relative;z-index: 1;}#sk-container-id-9 div.sk-parallel {display: flex;align-items: stretch;justify-content: center;background-color: white;position: relative;}#sk-container-id-9 div.sk-item::before, #sk-container-id-9 div.sk-parallel-item::before {content: \"\";position: absolute;border-left: 1px solid gray;box-sizing: border-box;top: 0;bottom: 0;left: 50%;z-index: -1;}#sk-container-id-9 div.sk-parallel-item {display: flex;flex-direction: column;z-index: 1;position: relative;background-color: white;}#sk-container-id-9 div.sk-parallel-item:first-child::after {align-self: flex-end;width: 50%;}#sk-container-id-9 div.sk-parallel-item:last-child::after {align-self: flex-start;width: 50%;}#sk-container-id-9 div.sk-parallel-item:only-child::after {width: 0;}#sk-container-id-9 div.sk-dashed-wrapped {border: 1px dashed gray;margin: 0 0.4em 0.5em 0.4em;box-sizing: border-box;padding-bottom: 0.4em;background-color: white;}#sk-container-id-9 div.sk-label label {font-family: monospace;font-weight: bold;display: inline-block;line-height: 1.2em;}#sk-container-id-9 div.sk-label-container {text-align: center;}#sk-container-id-9 div.sk-container {/* jupyter's `normalize.less` sets `[hidden] { display: none; }` but bootstrap.min.css set `[hidden] { display: none !important; }` so we also need the `!important` here to be able to override the default hidden behavior on the sphinx rendered scikit-learn.org. See: https://github.com/scikit-learn/scikit-learn/issues/21755 */display: inline-block !important;position: relative;}#sk-container-id-9 div.sk-text-repr-fallback {display: none;}</style><div id=\"sk-container-id-9\" class=\"sk-top-container\"><div class=\"sk-text-repr-fallback\"><pre>GradientBoostingRegressor(max_depth=1, n_estimators=200, random_state=1)</pre><b>In a Jupyter environment, please rerun this cell to show the HTML representation or trust the notebook. <br />On GitHub, the HTML representation is unable to render, please try loading this page with nbviewer.org.</b></div><div class=\"sk-container\" hidden><div class=\"sk-item\"><div class=\"sk-estimator sk-toggleable\"><input class=\"sk-toggleable__control sk-hidden--visually\" id=\"sk-estimator-id-9\" type=\"checkbox\" checked><label for=\"sk-estimator-id-9\" class=\"sk-toggleable__label sk-toggleable__label-arrow\">GradientBoostingRegressor</label><div class=\"sk-toggleable__content\"><pre>GradientBoostingRegressor(max_depth=1, n_estimators=200, random_state=1)</pre></div></div></div></div></div>"
      ],
      "text/plain": [
       "GradientBoostingRegressor(max_depth=1, n_estimators=200, random_state=1)"
      ]
     },
     "execution_count": 217,
     "metadata": {},
     "output_type": "execute_result"
    }
   ],
   "source": [
    "#use test set to give prediction\n",
    "X_b=dataframe['periodid']\n",
    "y_b=dataframe['Baringo County']\n",
    "\n",
    "gbr_model=GradientBoostingRegressor(\n",
    "    n_estimators=200,max_depth=1,random_state=1\n",
    ")\n",
    "#fit training data\n",
    "gbr_model.fit(X_b.iloc[train_0].values.reshape(-1,1),y_b.iloc[train_0])"
   ]
  },
  {
   "cell_type": "code",
   "execution_count": 215,
   "metadata": {},
   "outputs": [
    {
     "data": {
      "text/plain": [
       "array([5295.20963726, 5295.20963726, 5295.20963726, 5295.20963726,\n",
       "       5295.20963726, 5295.20963726, 5295.20963726, 5295.20963726,\n",
       "       5295.20963726, 5295.20963726, 5295.20963726, 5295.20963726])"
      ]
     },
     "execution_count": 215,
     "metadata": {},
     "output_type": "execute_result"
    }
   ],
   "source": [
    "\n",
    "y_hat=gbr_model.predict(X_b.iloc[test_0].values.reshape(-1,1))\n",
    "y_hat"
   ]
  },
  {
   "cell_type": "code",
   "execution_count": 224,
   "metadata": {},
   "outputs": [
    {
     "data": {
      "text/plain": [
       "array([3473.58072376, 3473.58072376, 3473.58072376, 3473.58072376,\n",
       "       3473.58072376, 3473.58072376, 3473.58072376, 3473.58072376,\n",
       "       3473.58072376, 3473.58072376, 3473.58072376, 3473.58072376])"
      ]
     },
     "execution_count": 224,
     "metadata": {},
     "output_type": "execute_result"
    }
   ],
   "source": [
    "#fit training data\n",
    "gbr_model.fit(X_b.iloc[train_1].values.reshape(-1,1),y_b.iloc[train_1])\n",
    "\n",
    "y_hat_=gbr_model.predict(X_b.iloc[test_1].values.reshape(-1,1))\n",
    "y_hat_"
   ]
  },
  {
   "cell_type": "code",
   "execution_count": 225,
   "metadata": {},
   "outputs": [
    {
     "data": {
      "text/plain": [
       "array([5295.20963726, 5295.20963726, 5295.20963726, 5295.20963726,\n",
       "       5295.20963726, 5295.20963726, 5295.20963726, 5295.20963726,\n",
       "       5295.20963726, 5295.20963726, 5295.20963726, 5295.20963726])"
      ]
     },
     "execution_count": 225,
     "metadata": {},
     "output_type": "execute_result"
    }
   ],
   "source": [
    "#fit training data\n",
    "gbr_model.fit(X_b.iloc[train_2].values.reshape(-1,1),y_b.iloc[train_2])\n",
    "\n",
    "y_hat_2=gbr_model.predict(X_b.iloc[test_2].values.reshape(-1,1))\n",
    "y_hat_2"
   ]
  },
  {
   "cell_type": "code",
   "execution_count": 226,
   "metadata": {},
   "outputs": [
    {
     "data": {
      "text/plain": [
       "array([1918.52507363, 1918.52507363, 1918.52507363, 1918.52507363,\n",
       "       1918.52507363, 1918.52507363, 1918.52507363, 1918.52507363,\n",
       "       1918.52507363, 1918.52507363, 1918.52507363, 1918.52507363])"
      ]
     },
     "execution_count": 226,
     "metadata": {},
     "output_type": "execute_result"
    }
   ],
   "source": [
    "#fit training data\n",
    "gbr_model.fit(X_b.iloc[train_3].values.reshape(-1,1),y_b.iloc[train_3])\n",
    "\n",
    "y_hat_3=gbr_model.predict(X_b.iloc[test_3].values.reshape(-1,1))\n",
    "y_hat_3"
   ]
  },
  {
   "cell_type": "code",
   "execution_count": 216,
   "metadata": {},
   "outputs": [
    {
     "data": {
      "image/png": "[encoded data removed]",
      "text/plain": [
       "<Figure size 864x288 with 1 Axes>"
      ]
     },
     "metadata": {
      "needs_background": "light"
     },
     "output_type": "display_data"
    }
   ],
   "source": [
    "last_hours = slice(-10, None)\n",
    "fig, ax = plt.subplots(figsize=(12, 4))\n",
    "fig.suptitle(\"Predictions by linear models\")\n",
    "ax.plot(\n",
    "    y_b.iloc[test_0].values[last_hours],\n",
    "    \"x-\",\n",
    "    alpha=0.2,\n",
    "    label=\"Actual demand\",\n",
    "    color=\"black\",\n",
    ")\n",
    "ax.plot(\n",
    "    y_hat[last_hours],\n",
    "    \"x-\",\n",
    "    label=\"Gradient Boosted Trees\",\n",
    ")\n",
    "_ = ax.legend()"
   ]
  }
 ],
 "metadata": {
  "kernelspec": {
   "display_name": "Python 3",
   "language": "python",
   "name": "python3"
  },
  "language_info": {
   "codemirror_mode": {
    "name": "ipython",
    "version": 3
   },
   "file_extension": ".py",
   "mimetype": "text/x-python",
   "name": "python",
   "nbconvert_exporter": "python",
   "pygments_lexer": "ipython3",
   "version": "3.10.5"
  },
  "orig_nbformat": 4,
  "vscode": {
   "interpreter": {
    "hash": "5b65f58aac08ef7a7032cc93a81d82c2e49bff9fbe70de5f6ea40a0cab91e5f6"
   }
  }
 },
 "nbformat": 4,
 "nbformat_minor": 2
}
